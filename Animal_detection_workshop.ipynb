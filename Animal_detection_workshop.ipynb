{
  "nbformat": 4,
  "nbformat_minor": 0,
  "metadata": {
    "colab": {
      "provenance": [],
      "gpuType": "T4",
      "authorship_tag": "ABX9TyOKUHBMQgohrVYkGi6LooBt",
      "include_colab_link": true
    },
    "kernelspec": {
      "name": "python3",
      "display_name": "Python 3"
    },
    "language_info": {
      "name": "python"
    },
    "accelerator": "GPU"
  },
  "cells": [
    {
      "cell_type": "markdown",
      "metadata": {
        "id": "view-in-github",
        "colab_type": "text"
      },
      "source": [
        "<a href=\"https://colab.research.google.com/github/mcldwitt/workshops/blob/main/Animal_detection_workshop.ipynb\" target=\"_parent\"><img src=\"https://colab.research.google.com/assets/colab-badge.svg\" alt=\"Open In Colab\"/></a>"
      ]
    },
    {
      "cell_type": "markdown",
      "source": [
        "# <font color='#9E7BFF'> Animal detection\n"
      ],
      "metadata": {
        "id": "m-S65yugUP9m"
      }
    },
    {
      "cell_type": "markdown",
      "source": [
        "Run de volgende cel zodat de nodige libraries worden geinstalleerd"
      ],
      "metadata": {
        "id": "GHONFEz89KrG"
      }
    },
    {
      "cell_type": "code",
      "execution_count": null,
      "metadata": {
        "id": "MYPDkxFBQwU1"
      },
      "outputs": [],
      "source": [
        "!pip install ultralytics==8.1.34\n",
        "!pip install gradio"
      ]
    },
    {
      "cell_type": "code",
      "source": [
        "# Vervang door de code die je hebt gekopieerd uit je eigen Roboflow workspace\n",
        "\n",
        "!pip install roboflow\n",
        "\n",
        "from roboflow import Roboflow\n",
        "rf = Roboflow(api_key=\"...\")\n",
        "project = rf.workspace(\"...\").project(\"...\")\n",
        "version = project.version(1)\n",
        "\n",
        "# dit lijntje laten staan!!!!\n",
        "dataset = version.download(\"yolov8\", \"./dierenproject\")"
      ],
      "metadata": {
        "id": "Qo-Dg6mbRaag"
      },
      "execution_count": null,
      "outputs": []
    },
    {
      "cell_type": "markdown",
      "source": [
        "open `data.yaml` zoals in het document aangegeven staat\n",
        "\n",
        "\n",
        "run de volgende cel  \n",
        "waarden die je eventueel kan veranderen:  \n",
        "\n",
        "*   `epochs` pas hiermee wel op, 1 epoch duurt ongeveer 1 minuut om het model te trainen, dus als deze op bv 20 staat dan zal je 20 minuten moeten wachten op het resultaat.\n",
        "*   `batch` mag de waarde 2,4,6,8,16,32,64 of 128 zijn.\n",
        "\n"
      ],
      "metadata": {
        "id": "NZJnFggAIf-D"
      }
    },
    {
      "cell_type": "code",
      "source": [
        "!yolo task=detect mode=train model=yolov8s.pt data={dataset.location}/data.yaml epochs=10 imgsz=640 batch=64"
      ],
      "metadata": {
        "id": "qGh-v0rchm7-"
      },
      "execution_count": null,
      "outputs": []
    },
    {
      "cell_type": "markdown",
      "source": [
        "Als je de volgende cel runt zou je een confusion matrix moeten zien. Indien dit niet zo is, contacteer een leerkracht."
      ],
      "metadata": {
        "id": "-zd0MhSyIxT4"
      }
    },
    {
      "cell_type": "code",
      "source": [
        "bfrom IPython.display import display, Image\n",
        "Image(filename=f'/content/runs/detect/train/confusion_matrix.png', width=900)"
      ],
      "metadata": {
        "id": "4GeArD3ah0K-"
      },
      "execution_count": null,
      "outputs": []
    },
    {
      "cell_type": "code",
      "source": [
        "from ultralytics import YOLO\n",
        "model = YOLO(\"runs/detect/train/weights/best.pt\")"
      ],
      "metadata": {
        "id": "WVPIbaoTN34R"
      },
      "execution_count": null,
      "outputs": []
    },
    {
      "cell_type": "markdown",
      "source": [
        "Laat ons het model eens uittesten in een kleine applicatie, run de volgende cel."
      ],
      "metadata": {
        "id": "za5JWTfDI_QI"
      }
    },
    {
      "cell_type": "code",
      "source": [
        "import gradio as gr\n",
        "import PIL.Image as Image\n",
        "from ultralytics import ASSETS, YOLO\n",
        "\n",
        "model = model\n",
        "# model = YOLO(\"yolov8n.pt\") goed werkend model\n",
        "\n",
        "def predict_image(img, conf_threshold, iou_threshold):\n",
        "    \"\"\"Predicts and plots labeled objects in an image using YOLOv8 model with adjustable confidence and IOU thresholds.\"\"\"\n",
        "    results = model.predict(\n",
        "        source=img,\n",
        "        conf=conf_threshold,\n",
        "        show_labels=True,\n",
        "        show_conf=True,\n",
        "        imgsz=640,\n",
        "    )\n",
        "\n",
        "    for r in results:\n",
        "        im_array = r.plot()\n",
        "        im = Image.fromarray(im_array[..., ::-1])\n",
        "\n",
        "    return im\n",
        "\n",
        "\n",
        "iface = gr.Interface(\n",
        "    fn=predict_image,\n",
        "    inputs=[\n",
        "        gr.Image(type=\"pil\", label=\"Upload Image\"),\n",
        "        gr.Slider(minimum=0, maximum=1, value=0.25, label=\"Confidence threshold\"),\n",
        "    ],\n",
        "    outputs=gr.Image(type=\"pil\", label=\"Result\"),\n",
        "    title=\"Ultralytics Gradio\",\n",
        "    description=\"Upload images to check if there is an animal\",\n",
        "    theme = gr.themes.Glass(\n",
        "    primary_hue=\"pink\",\n",
        "    secondary_hue=\"purple\",\n",
        "    neutral_hue=\"fuchsia\",\n",
        "),\n",
        "\n",
        ")\n",
        "\n",
        "if __name__ == \"__main__\":\n",
        "    iface.launch(debug=True)"
      ],
      "metadata": {
        "id": "nTBQ_QnxaT2H"
      },
      "execution_count": null,
      "outputs": []
    },
    {
      "cell_type": "code",
      "source": [
        "import gradio as gr\n",
        "\n",
        "gr.themes.builder()"
      ],
      "metadata": {
        "id": "z1LYdDZ-cC6a"
      },
      "execution_count": null,
      "outputs": []
    },
    {
      "cell_type": "code",
      "source": [],
      "metadata": {
        "id": "uWf385aHYoFt"
      },
      "execution_count": null,
      "outputs": []
    }
  ]
}