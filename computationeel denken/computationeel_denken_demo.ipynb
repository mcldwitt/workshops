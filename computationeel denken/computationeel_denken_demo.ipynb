{
  "cells": [
    {
      "cell_type": "markdown",
      "metadata": {
        "colab_type": "text",
        "id": "view-in-github"
      },
      "source": [
        "<a href=\"https://colab.research.google.com/github/mcldwitt/workshops/blob/main/computationeel_denken_demo.ipynb\" target=\"_parent\"><img src=\"https://colab.research.google.com/assets/colab-badge.svg\" alt=\"Open In Colab\"/></a>"
      ]
    },
    {
      "cell_type": "markdown",
      "metadata": {
        "id": "aTTWnoXRPE6b"
      },
      "source": [
        "# <font color=\"darkorange\"> Computationeel denken\n",
        "# <font color=\"darkorange\"> Verkopen voorbeeld"
      ]
    },
    {
      "cell_type": "code",
      "execution_count": null,
      "metadata": {
        "id": "HmnCKBvTPE6c"
      },
      "outputs": [],
      "source": [
        "%matplotlib inline\n",
        "import matplotlib.pyplot as plt\n",
        "import numpy as np\n",
        "import pandas as pd\n",
        "import seaborn as sns\n",
        "sns.set_style(\"darkgrid\")\n",
        "from sklearn.linear_model import LinearRegression\n",
        "import warnings\n",
        "warnings.filterwarnings(\"ignore\")\n",
        "sns.set_style(\"darkgrid\") # geeft de grafiek een achtergrond\n",
        "!wget \"https://raw.githubusercontent.com/mcldwitt/workshops/refs/heads/main/computationeel%20denken/diamonds.csv\"\n",
        "!wget \"https://raw.githubusercontent.com/mcldwitt/workshops/refs/heads/main/computationeel%20denken/verkopen.csv\""
      ]
    },
    {
      "cell_type": "markdown",
      "metadata": {
        "id": "c6lGlJ9APE6d"
      },
      "source": [
        "## <font color=\"deeppink\"> Inlezen van een dataset en deze verkennen </span>\n",
        "Het inlezen van een csv-file gaan we doen met een built\n",
        "-in functie van de pandas library.<br/> Deze functie is: <br/>\n",
        "`dataset = pd.read_csv(path/to/file)` <br/>\n",
        "https://pandas.pydata.org/docs/reference/api/pandas.read_csv.html"
      ]
    },
    {
      "cell_type": "code",
      "execution_count": null,
      "metadata": {
        "id": "VgMrU0EWPE6d"
      },
      "outputs": [],
      "source": [
        "dataset = pd.read_csv('/content/verkopen.csv')"
      ]
    },
    {
      "cell_type": "markdown",
      "metadata": {
        "id": "MXXdK_dGPE6d"
      },
      "source": [
        "Om te zien of het inlezen van de data correct gelukt is kun je gebruik maken van de functie:<br/>`dataset.head()`  \n",
        "Deze functie zal de eerste 5 lijntjes afdrukken, of meer indien je het aantal meegeeft als parameter:<br/> https://pandas.pydata.org/docs/reference/api/pandas.DataFrame.head.html"
      ]
    },
    {
      "cell_type": "code",
      "execution_count": null,
      "metadata": {
        "id": "aB4ys04aPE6d"
      },
      "outputs": [],
      "source": [
        "dataset.head()"
      ]
    },
    {
      "cell_type": "markdown",
      "metadata": {
        "id": "xwPuyTRmPE6d"
      },
      "source": [
        "## <font color=\"deeppink\"> Verkenning van de statistische parameters\n",
        "Om een samenvatting te krijgen van de belangrijkste statistische parameters van de kolommen die bestaan uit kwantitatieve gegevens, kun je gebruik maken van de functie: <br/> `dataset.describe()`  \n",
        "https://pandas.pydata.org/docs/reference/api/pandas.DataFrame.describe.html"
      ]
    },
    {
      "cell_type": "code",
      "execution_count": null,
      "metadata": {
        "id": "5tLZxT65PE6d"
      },
      "outputs": [],
      "source": [
        "dataset.describe()"
      ]
    },
    {
      "cell_type": "markdown",
      "metadata": {
        "id": "vrhFr2IIPE6e"
      },
      "source": [
        "## <font color=\"deeppink\"> Berekenen van de correlatiecoefficienten\n",
        "Om de correlatie tussen de numerieke kolommen in een dataset te berekenen, kun je gebruik maken van de functie:\n",
        "<br/> `dataset.corr()` <br/>\n",
        "Deze functie geeft een correlatiematrix terug die we opslaan onder de naam correlatiecoefficienten.  \n",
        "https://pandas.pydata.org/docs/reference/api/pandas.DataFrame.corr.html"
      ]
    },
    {
      "cell_type": "code",
      "execution_count": null,
      "metadata": {
        "id": "y7ZadfvBPE6e"
      },
      "outputs": [],
      "source": [
        "# Correlatiecoefficient via Pandas\n",
        "correlatiecoefficienten = dataset.corr()\n",
        "correlatiecoefficienten # zorgt ervoor dat de berekende correlatiecoefficienten worden getoond"
      ]
    },
    {
      "cell_type": "markdown",
      "metadata": {
        "id": "44xvJi77PE6e"
      },
      "source": [
        "## <font color=\"deeppink\"> Visualiseren van de correlatiecoefficienten\n",
        "Om de correlatiematrix van de dataset beter te interpreteren, kun je een heatmap maken. Dit helpt om snel visuele inzichten te krijgen in de sterkte en richting van de relaties tussen de variabelen. Hiervoor kun je gebruik maken van de functie:\n",
        "<br/> `sns.heatmap(corr)`  \n",
        "https://seaborn.pydata.org/generated/seaborn.heatmap.html\n",
        "\n"
      ]
    },
    {
      "cell_type": "code",
      "execution_count": null,
      "metadata": {
        "id": "9nFp7rmHPE6e"
      },
      "outputs": [],
      "source": [
        "# Visualiseer de onderlinge correlatiecoëfficiënten\n",
        "plt.figure(figsize=(15,15)) #stelt de grootte van de figuur in\n",
        "sns.heatmap(data= correlatiecoefficienten,square=True, annot=True) # creert de effectieve figuur"
      ]
    },
    {
      "cell_type": "markdown",
      "metadata": {
        "id": "sdBUgTCcPE6e"
      },
      "source": [
        "Welke kolom heeft de hoogte correlatie (positief of negatief) met het aantal verkopen?  \n"
      ]
    },
    {
      "cell_type": "markdown",
      "metadata": {
        "id": "zfJpRP4ePE6e"
      },
      "source": [
        "## <font color=\"deeppink\"> Visualiseren van de bivariate variabelen    \n",
        "De functie `sns.pairplot(dataset)` gaat een scatterplot maken per bivariate variabelen, op de diagonaal worden de histogrammen weergeven. Deze functie kan een schat aan informatie in een zeer snelle tijd geven en toont mooi aan wat het voordeel is van parallellisatie, maar het nadeel is zodra je gaat werken met zeer grote datasets zal deze functie zeer veel tijd nodig hebben om de plot te genereren!"
      ]
    },
    {
      "cell_type": "code",
      "execution_count": null,
      "metadata": {
        "id": "-NmEpd20PE6e"
      },
      "outputs": [],
      "source": [
        "# pairplot\n",
        "sns.pairplot(dataset,hue='Ancieniteit')"
      ]
    },
    {
      "cell_type": "markdown",
      "metadata": {
        "id": "6u5CJoYOPE6e"
      },
      "source": [
        "We zullen toch nog de individuele scatterplot van de gekozen kolom gaan weergeven. We zullen gebruik maken van de functie `sns.scatterplot` <br/>\n",
        "https://seaborn.pydata.org/generated/seaborn.scatterplot.html <br/>\n",
        "Onder de variabele `x` zullen we de gekozen kolom invullen <br/>\n",
        "Onder de variabele `y` zullen we de kolom aantal verkopen invullen"
      ]
    },
    {
      "cell_type": "code",
      "execution_count": null,
      "metadata": {
        "id": "fR4Mc7IbPE6f"
      },
      "outputs": [],
      "source": [
        "## Scatterplot tussen de gekozen onafhankelijke variabele en het aantal verkopen\n",
        "x = \"Aantal maanden in dienst\" # \"Vul hier de gekozen kolom in (inclusief hoofdletters)\"\n",
        "y = \"Aantal verkopen\"\n",
        "sns.scatterplot(x=x, y=y, data=dataset,color='orange',s=100)\n",
        "plt.title(\"scatterplot van de gekozen kolom en het aantal verkopen\") # titel van de grafiek"
      ]
    },
    {
      "cell_type": "markdown",
      "metadata": {
        "id": "5v0YGgCnPE6f"
      },
      "source": [
        "Indien we willen weergeven of een categorische variabele, in dit geval de ancieniteit, een invloed heeft, welke parameter zouden we dan moeten gebruiken in de functie `sns.scatterplot(x, y, dataset)` <br/>\n",
        "Hint: bekijk de voorbeelden in de documentatie..."
      ]
    },
    {
      "cell_type": "code",
      "execution_count": null,
      "metadata": {
        "id": "cFL43j2cPE6f"
      },
      "outputs": [],
      "source": [
        "# Scatterplot tussen gekozen onafhankelijke variabele en het aantal verkopen en Ancieniteit\n",
        "# Scatterplot\n",
        "sns.scatterplot(x=\"Aantal maanden in dienst\", y=y, data=dataset,color='orange',s=100)\n",
        "sns.set_style(\"darkgrid\")\n",
        "plt.title(\"scatterplot van de gekozen kolom en het aantal verkopen\")\n",
        "\n"
      ]
    },
    {
      "cell_type": "markdown",
      "metadata": {
        "id": "_yEFN2u4PE6f"
      },
      "source": [
        "## <font color=\"deeppink\"> Berekenen en weergeven van de regressielijn  \n",
        "Het volgende stukje code is een zelfgeschreven functie in python die ervoor zorgt dat je niet telkens dezelfde code opnieuw moet schrijven en zeer eenvoudig kunt hergebruiken! <br/>\n",
        "Deze cel hoef je enkel te runnen ;)"
      ]
    },
    {
      "cell_type": "code",
      "execution_count": null,
      "metadata": {
        "id": "KvcIEAGnPE6f"
      },
      "outputs": [],
      "source": [
        "# zelfgeschreven functie die herbruikbaar is om plotjes te gaan genereren.\n",
        "\n",
        "# Regressielijn\n",
        "def find_regressionline(dataset: pd.DataFrame, x: str, y: str) -> LinearRegression:\n",
        "    onafhankelijke_variabele = dataset[x].values\n",
        "    afhankelijke_variabele = dataset[y].values\n",
        "\n",
        "    regressionline = LinearRegression()\n",
        "    regressionline.fit(onafhankelijke_variabele.reshape(-1,1), afhankelijke_variabele)\n",
        "\n",
        "    return regressionline\n",
        "\n",
        "def plot_regressionline(dataset: pd.DataFrame, x: str, y:str, regressielijn: LinearRegression, title:str) -> None:\n",
        "    plt.figure()\n",
        "    sns.scatterplot(x=dataset[x], y=dataset[y], data=dataset,color='orange',s=100)\n",
        "    sns.lineplot(x=dataset[x],y=regressielijn.predict(dataset[x].values.reshape(-1,1)),color='violet',linewidth=3)\n",
        "    sns.set_style(\"darkgrid\")\n",
        "    plt.title(title)\n",
        "    plt.show()"
      ]
    },
    {
      "cell_type": "markdown",
      "metadata": {
        "id": "YdLInVH7PE6f"
      },
      "source": [
        "In deze cel gaan we de zelfgeschreven functies gaan effectief gebruiken, we geven de dataset mee, de x-variabele en de y-variabele. In de 2de functie geven we de dataset, de x-variabele, de y-variabele, de uitgerekende regressielijn en een gepaste titel mee. Je mag 'Titel' vervangen door een gepaste titel."
      ]
    },
    {
      "cell_type": "code",
      "execution_count": null,
      "metadata": {
        "id": "sJJCFXgXPE6f"
      },
      "outputs": [],
      "source": [
        "regressielijn = find_regressionline(dataset, x, y)\n",
        "plot_regressionline(dataset, x, y, regressielijn, 'Titel')"
      ]
    },
    {
      "cell_type": "markdown",
      "metadata": {
        "id": "kUbLgM_kPE6f"
      },
      "source": [
        "Het volgende stukje code berekent de R² score van de regressielijn"
      ]
    },
    {
      "cell_type": "code",
      "execution_count": null,
      "metadata": {
        "id": "_691zEShPE6f"
      },
      "outputs": [],
      "source": [
        "score = regressielijn.score(dataset[x].values.reshape(-1,1), dataset[y])\n",
        "print('De R²-score bedraagt {:.2f}'.format(score) )"
      ]
    },
    {
      "cell_type": "markdown",
      "metadata": {
        "id": "iymJNTylPE6f"
      },
      "source": [
        "## <font color=\"deeppink\"> Visualisatie invloed anciniteit op de verkopen\n",
        "Soms kan een categorische variabele een invloed hebben op de onafhankelijke variabele...  \n",
        "We zullen eerst kijken welke waarden aanwezig zijn in de kolom `Ancieniteit` met behulp van de functie `dataset['kolomnaam'].unique()`  \n",
        "https://pandas.pydata.org/docs/reference/api/pandas.unique.html\n"
      ]
    },
    {
      "cell_type": "code",
      "execution_count": null,
      "metadata": {
        "id": "1VK9U7RjPE6f"
      },
      "outputs": [],
      "source": [
        "dataset['Ancieniteit'].unique()"
      ]
    },
    {
      "cell_type": "markdown",
      "metadata": {
        "id": "yskj2OvRPE6g"
      },
      "source": [
        "Vervolgens zullen we dit visualiseren aan de hand van de functie `sns.countplot()`  \n",
        "https://seaborn.pydata.org/generated/seaborn.countplot.html\n",
        "\n"
      ]
    },
    {
      "cell_type": "code",
      "execution_count": null,
      "metadata": {
        "id": "kShQRC3sPE6g"
      },
      "outputs": [],
      "source": [
        "sns.countplot(data=dataset, x='Ancieniteit')\n",
        "plt.title('Verdeling juniors vs seniors')"
      ]
    },
    {
      "cell_type": "markdown",
      "metadata": {
        "id": "g6fZ_lLHPE6g"
      },
      "source": [
        "Met een boxplot die we opsplitsen volgens de categorische variabelen kun je kijken of een bepaalde categorische waarde invloed zou kunnen hebben op de onafhankelijke veranderlijke...  \n",
        "https://seaborn.pydata.org/generated/seaborn.boxplot.html"
      ]
    },
    {
      "cell_type": "code",
      "execution_count": null,
      "metadata": {
        "id": "ePGij9wsPE6g"
      },
      "outputs": [],
      "source": [
        "sns.boxplot(data=dataset, x='Ancieniteit', y='Aantal verkopen')"
      ]
    },
    {
      "cell_type": "markdown",
      "metadata": {
        "id": "w_9W3MkSPE6g"
      },
      "source": [
        "## <font color=\"deeppink\"> Voorspelling van het aantal verkopen opgesplitst volgens ancieniteit"
      ]
    },
    {
      "cell_type": "code",
      "execution_count": null,
      "metadata": {
        "id": "iyD9351uPE6g"
      },
      "outputs": [],
      "source": [
        "juniors = dataset[dataset.Ancieniteit=='Junior']\n",
        "\n",
        "regressielijn_juniors = find_regressionline(juniors, x, y)\n",
        "juniors_score = regressielijn_juniors.score(juniors[x].values.reshape(-1,1),juniors[y])\n",
        "print(juniors_score)\n"
      ]
    },
    {
      "cell_type": "code",
      "execution_count": null,
      "metadata": {
        "id": "FjxDZxVPPE6g"
      },
      "outputs": [],
      "source": [
        "plot_regressionline(juniors, x, y, regressielijn_juniors, 'Titel')"
      ]
    },
    {
      "cell_type": "code",
      "execution_count": null,
      "metadata": {
        "id": "cWnXnyNZPE6g"
      },
      "outputs": [],
      "source": [
        "seniors = dataset[dataset.Ancieniteit=='Senior']\n",
        "\n",
        "regresielijn_seniors = find_regressionline(seniors, x, y)\n",
        "score = regresielijn_seniors.score(seniors[x].values.reshape(-1,1), seniors[y].values)\n",
        "print(\"R-squared value seniors: \", round(score, 2))\n"
      ]
    },
    {
      "cell_type": "code",
      "execution_count": null,
      "metadata": {
        "id": "W_K6iAX1PE6g"
      },
      "outputs": [],
      "source": [
        "plot_regressionline(seniors, x, y, regresielijn_seniors, 'Titel')"
      ]
    },
    {
      "cell_type": "markdown",
      "metadata": {
        "id": "gLxcMGK1PE6g"
      },
      "source": [
        "# <font color=\"darkorange\"> Diamonds dataset  </font>\n",
        "De diamonds dataset is een zeer grote dataset die een zeer groot aantal diamanten bevat, met veel variabelen en als doel om te kunnen de prijs waaraan een diamand verkocht werd te kunnen voorspellen.  \n",
        "\n",
        "| Variable Name |Description | Type variabele?\n",
        "| --- | --- | --- |\n",
        "|Price \t| price in US dollars | |\n",
        "|Carat | weight of the diamond | |\n",
        "|Cut | quality of the cut (Fair, Good, Very Good, Premium, Ideal)| |\n",
        "|Color | diamond colour, from J (worst) to D (best)| |\n",
        "|Clarity | A measurement of how clear the diamond is (I1 (worst), SI2, SI1, VS2, VS1, VVS2, VVS1, IF (best))| |\n",
        "|x | length in mm| |\n",
        "|y \t|width in mm| |\n",
        "|z  |depth in mm| |\n",
        "|depth |total depth percentage = z / mean(x, y) = 2 * z / (x + y) | |\n",
        "|table  | width of top of diamond relative to widest point | |\n",
        "\n",
        "Welk datatype hebben de verschillende kolommen?"
      ]
    },
    {
      "cell_type": "code",
      "execution_count": null,
      "metadata": {
        "id": "5sa3hNg7PE6g"
      },
      "outputs": [],
      "source": [
        "dataset = pd.read_csv('/content/diamonds.csv')\n",
        "dataset.head()"
      ]
    },
    {
      "cell_type": "markdown",
      "metadata": {
        "id": "vxC6lC83PE6g"
      },
      "source": [
        "Er zit 1 nutteloze kolom in de dataset, je kunt deze verwijderen met de functie:  \n",
        "`dataset.drop()`  \n",
        "https://pandas.pydata.org/docs/reference/api/pandas.DataFrame.drop.html"
      ]
    },
    {
      "cell_type": "code",
      "execution_count": null,
      "metadata": {
        "id": "LIjqbzWwPE6m"
      },
      "outputs": [],
      "source": []
    },
    {
      "cell_type": "markdown",
      "metadata": {
        "id": "wasgDc0UPE6m"
      },
      "source": [
        "Hierna kun je de logica en volgorde van het voorgaand voorbeeld volgen. <br/> Welke kolom zou je kiezen om de prijs mee te voorspellen? <br/> Zou er een van de categorische features een invloed kunnen hebben? <br/> Welke stappen zul je moeten doorlopen om dit te bewerkstelligen?"
      ]
    },
    {
      "cell_type": "code",
      "execution_count": null,
      "metadata": {
        "id": "ENZhsYWxPE6m"
      },
      "outputs": [],
      "source": []
    },
    {
      "cell_type": "code",
      "execution_count": null,
      "metadata": {
        "id": "TDQlM1Y6PE6n"
      },
      "outputs": [],
      "source": []
    },
    {
      "cell_type": "code",
      "execution_count": null,
      "metadata": {
        "id": "8rgMhu2TPE6n"
      },
      "outputs": [],
      "source": []
    },
    {
      "cell_type": "code",
      "execution_count": null,
      "metadata": {
        "id": "q_M3umh5PE6n"
      },
      "outputs": [],
      "source": []
    },
    {
      "cell_type": "code",
      "execution_count": null,
      "metadata": {
        "id": "A8ykHW9aPE6n"
      },
      "outputs": [],
      "source": []
    },
    {
      "cell_type": "code",
      "execution_count": null,
      "metadata": {
        "id": "0fEbKKr4PE6n"
      },
      "outputs": [],
      "source": []
    }
  ],
  "metadata": {
    "colab": {
      "include_colab_link": true,
      "provenance": []
    },
    "kernelspec": {
      "display_name": "base",
      "language": "python",
      "name": "python3"
    },
    "language_info": {
      "codemirror_mode": {
        "name": "ipython",
        "version": 3
      },
      "file_extension": ".py",
      "mimetype": "text/x-python",
      "name": "python",
      "nbconvert_exporter": "python",
      "pygments_lexer": "ipython3",
      "version": "3.12.4"
    }
  },
  "nbformat": 4,
  "nbformat_minor": 0
}
